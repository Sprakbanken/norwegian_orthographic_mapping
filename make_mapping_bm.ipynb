{
 "cells": [
  {
   "attachments": {},
   "cell_type": "markdown",
   "metadata": {},
   "source": [
    "# Make mappings between different spellings of the same words in Bokmål"
   ]
  },
  {
   "cell_type": "code",
   "execution_count": 1,
   "metadata": {},
   "outputs": [],
   "source": [
    "import pandas as pd\n",
    "import re"
   ]
  },
  {
   "cell_type": "code",
   "execution_count": 2,
   "metadata": {},
   "outputs": [],
   "source": [
    "# Import the full form list from Norsk ordbank\n",
    "\n",
    "ordbank_df = pd.read_table(\"fullformsliste.txt\")"
   ]
  },
  {
   "cell_type": "code",
   "execution_count": 3,
   "metadata": {},
   "outputs": [],
   "source": [
    "# Remove the masculine/feminine distinctions to capture alternations like \"betydningen\"/\"betydninga\"\n",
    "\n",
    "ordbank_df[\"TAG\"] = ordbank_df.TAG.apply(lambda x: x.replace(\"subst fem appell\", \"subst mask appell\"))"
   ]
  },
  {
   "cell_type": "code",
   "execution_count": 4,
   "metadata": {},
   "outputs": [],
   "source": [
    "# Identify forms that have multiple instances of the same lemma id and tag, i.e., forms which are variants of the same word\n",
    "# and have the same grammatical tags\n",
    "\n",
    "ordbank_df[\"duplicated\"] = ordbank_df.duplicated(subset=[\"LEMMA_ID\", \"TAG\"], keep=False)"
   ]
  },
  {
   "cell_type": "code",
   "execution_count": 5,
   "metadata": {},
   "outputs": [],
   "source": [
    "# Get mappings between alternate forms\n",
    "\n",
    "def get_mappings(gb):\n",
    "    words = list(gb.OPPSLAG)\n",
    "    firstw = words[0]\n",
    "    return [(x, firstw) for x in words[1:] if x != firstw]\n",
    "\n",
    "dups = ordbank_df.query(\"duplicated\").dropna().groupby([\"LEMMA_ID\", \"TAG\"]).apply(lambda x: get_mappings(x)).to_list()\n",
    "dups = [y for x in dups for y in x if x != []]"
   ]
  },
  {
   "cell_type": "code",
   "execution_count": 6,
   "metadata": {},
   "outputs": [],
   "source": [
    "# Make a mapping dict\n",
    "\n",
    "import re\n",
    "\n",
    "mappings = {}\n",
    "for t in dups:\n",
    "    if re.match(r\"^\\-.*\", t[1]):\n",
    "        pass # Filter out forms starting with \"-\"\n",
    "    elif t[0] not in mappings.keys():\n",
    "        if t[1] in mappings.keys() and mappings[t[1]] == t[0]: # Avoid circular mappings\n",
    "            pass\n",
    "        else:\n",
    "            mappings[t[0]] = t[1]\n",
    "    else:\n",
    "        pass"
   ]
  },
  {
   "cell_type": "code",
   "execution_count": 20,
   "metadata": {},
   "outputs": [],
   "source": [
    "# Produce a json file\n",
    "\n",
    "import json\n",
    "with open(\"bokmal.json\", \"w\") as outf:\n",
    "    json.dump(mappings, outf, ensure_ascii=False)"
   ]
  },
  {
   "cell_type": "code",
   "execution_count": null,
   "metadata": {},
   "outputs": [],
   "source": []
  }
 ],
 "metadata": {
  "kernelspec": {
   "display_name": "scribe",
   "language": "python",
   "name": "scribe"
  },
  "language_info": {
   "codemirror_mode": {
    "name": "ipython",
    "version": 3
   },
   "file_extension": ".py",
   "mimetype": "text/x-python",
   "name": "python",
   "nbconvert_exporter": "python",
   "pygments_lexer": "ipython3",
   "version": "3.11.2"
  },
  "orig_nbformat": 4
 },
 "nbformat": 4,
 "nbformat_minor": 2
}
